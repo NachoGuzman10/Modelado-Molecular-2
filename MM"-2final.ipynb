{
 "cells": [
  {
   "cell_type": "code",
   "execution_count": 1,
   "metadata": {
    "collapsed": true
   },
   "outputs": [],
   "source": [
    "# Juan Ignacio Guzmán Cervantes\n",
    "\n",
    "from sympy import *\n",
    "from sympy import init_printing; init_printing(use_latex = 'mathjax')\n"
   ]
  },
  {
   "cell_type": "code",
   "execution_count": 2,
   "metadata": {
    "collapsed": false
   },
   "outputs": [
    {
     "data": {
      "text/latex": [
       "$$\\left ( x, \\quad l, \\quad m, \\quad \\hbar\\right )$$"
      ],
      "text/plain": [
       "(x, l, m, h̅)"
      ]
     },
     "execution_count": 2,
     "metadata": {},
     "output_type": "execute_result"
    }
   ],
   "source": [
    "var('x l m hbar')"
   ]
  },
  {
   "cell_type": "code",
   "execution_count": 3,
   "metadata": {
    "collapsed": true
   },
   "outputs": [],
   "source": [
    "f_1 = x*(l - x)"
   ]
  },
  {
   "cell_type": "code",
   "execution_count": 4,
   "metadata": {
    "collapsed": false
   },
   "outputs": [
    {
     "data": {
      "text/latex": [
       "$$x \\left(l - x\\right)$$"
      ],
      "text/plain": [
       "x⋅(l - x)"
      ]
     },
     "execution_count": 4,
     "metadata": {},
     "output_type": "execute_result"
    }
   ],
   "source": [
    "f_1"
   ]
  },
  {
   "cell_type": "code",
   "execution_count": 5,
   "metadata": {
    "collapsed": false
   },
   "outputs": [
    {
     "data": {
      "text/latex": [
       "$$-2$$"
      ],
      "text/plain": [
       "-2"
      ]
     },
     "execution_count": 5,
     "metadata": {},
     "output_type": "execute_result"
    }
   ],
   "source": [
    "diff(f_1, x, 2)"
   ]
  },
  {
   "cell_type": "code",
   "execution_count": 6,
   "metadata": {
    "collapsed": false
   },
   "outputs": [
    {
     "data": {
      "text/latex": [
       "$$\\frac{\\hbar^{2} x}{m} \\left(l - x\\right)$$"
      ],
      "text/plain": [
       "  2          \n",
       "h̅ ⋅x⋅(l - x)\n",
       "─────────────\n",
       "      m      "
      ]
     },
     "execution_count": 6,
     "metadata": {},
     "output_type": "execute_result"
    }
   ],
   "source": [
    "integrando = (-hbar**2/(2*m))*f_1*diff(f_1, x, 2)\n",
    "integrando"
   ]
  },
  {
   "cell_type": "markdown",
   "metadata": {},
   "source": []
  },
  {
   "cell_type": "code",
   "execution_count": 7,
   "metadata": {
    "collapsed": false
   },
   "outputs": [],
   "source": [
    "H_11 = Integral(integrando, (x, 0, l))"
   ]
  },
  {
   "cell_type": "code",
   "execution_count": 8,
   "metadata": {
    "collapsed": false
   },
   "outputs": [
    {
     "data": {
      "text/latex": [
       "$$\\frac{\\hbar^{2} l^{3}}{6 m}$$"
      ],
      "text/plain": [
       "  2  3\n",
       "h̅ ⋅l \n",
       "──────\n",
       " 6⋅m  "
      ]
     },
     "execution_count": 8,
     "metadata": {},
     "output_type": "execute_result"
    }
   ],
   "source": [
    "H_11.doit()"
   ]
  },
  {
   "cell_type": "code",
   "execution_count": 9,
   "metadata": {
    "collapsed": false
   },
   "outputs": [
    {
     "data": {
      "text/latex": [
       "$$x^{2} \\left(l - x\\right)^{2}$$"
      ],
      "text/plain": [
       " 2        2\n",
       "x ⋅(l - x) "
      ]
     },
     "execution_count": 9,
     "metadata": {},
     "output_type": "execute_result"
    }
   ],
   "source": [
    "integrando2 = f_1**2\n",
    "integrando2"
   ]
  },
  {
   "cell_type": "code",
   "execution_count": 10,
   "metadata": {
    "collapsed": false
   },
   "outputs": [
    {
     "data": {
      "text/latex": [
       "$$\\int_{0}^{l} x^{2} \\left(l - x\\right)^{2}\\, dx$$"
      ],
      "text/plain": [
       "l               \n",
       "⌠               \n",
       "⎮  2        2   \n",
       "⎮ x ⋅(l - x)  dx\n",
       "⌡               \n",
       "0               "
      ]
     },
     "execution_count": 10,
     "metadata": {},
     "output_type": "execute_result"
    }
   ],
   "source": [
    "Integral(integrando2, (x, 0, l))"
   ]
  },
  {
   "cell_type": "code",
   "execution_count": 11,
   "metadata": {
    "collapsed": false
   },
   "outputs": [
    {
     "data": {
      "text/latex": [
       "$$\\frac{l^{5}}{30}$$"
      ],
      "text/plain": [
       " 5\n",
       "l \n",
       "──\n",
       "30"
      ]
     },
     "execution_count": 11,
     "metadata": {},
     "output_type": "execute_result"
    }
   ],
   "source": [
    "S_11=Integral(integrando2, (x, 0, l))\n",
    "S_11.doit()"
   ]
  },
  {
   "cell_type": "code",
   "execution_count": 13,
   "metadata": {
    "collapsed": false
   },
   "outputs": [],
   "source": [
    "\n",
    "# Juan Ignacio Guzmán Cerntantes\n",
    "\n",
    "# Energías y eigenfunciones de un sistema cuántico numéricamente\n",
    "\n",
    "\n",
    "\n",
    "\n",
    "\n",
    "import numpy as np\n",
    "from sympy import *\n",
    "from sympy import init_printing; init_printing(use_latex = 'mathjax')\n",
    "import matplotlib.pyplot as plt\n",
    "\n",
    "\n",
    "\n",
    "var('x l m hbar w k')\n",
    "\n",
    "\n",
    "\n",
    "\n",
    "def Metodo_variaciones():\n",
    "    \n",
    "    print('Se tienen que definir las variable como la masa, el parámetro l (se define), el parámetro k y x')\n",
    "    \n",
    "    print('')\n",
    "    \n",
    "    # La energía cinética está definida por: K=(-hbar**2)/(2*m)*diff(fx,x,2)\n",
    "    \n",
    "    \n",
    "    print('La energía cinética esta definida como: K=(-hbar**2)/(2*m)*diff(f(x),x,2)');print('')\n",
    "\n",
    "    # Potencial\n",
    "    \n",
    "    V=sympify(input('Introduce la función de potencial: '));print('')\n",
    "    \n",
    "    lim_inf_V=sympify(input('Límite inferior de la función potencial '))\n",
    "    \n",
    "    lim_sup_V=sympify(input('Límite superior de la función potencial '));print('')\n",
    "\n",
    "    n = int(input('Número de funciones que se van a utilizar: '));print('')\n",
    "    f=[]\n",
    "    Sm=[]\n",
    "    Hm=[]\n",
    "\n",
    "\n",
    "    print('Ahora vamos definir las constantes del problema');print('')\n",
    "    mass=input('¿Cuánto es la masa de tu partícula? ')\n",
    "    large=input('Define el parámetro l: ');print('')\n",
    "\n",
    "    # Declarar funciones y límites de dichas funciones\n",
    "    lim_inf=[]\n",
    "    lim_sup=[]\n",
    "    for i in range(n):\n",
    "        f.append((input('Introduce la función %d: ' %(i+1))))\n",
    "        lim_inf.append(input('Límite inferior de la función '))\n",
    "        lim_sup.append(input('Límite superior de la función '));print('')\n",
    "        \n",
    "    f=sympify(f)\n",
    "    lim_inf=sympify(lim_inf)\n",
    "    lim_sup=sympify(lim_sup)\n",
    "    \n",
    "    \n",
    "    # Para partícula en un pozo de potencial de 0 a l\n",
    "    \n",
    "    # El siguiente ciclo hace las integrales para formar las matrices Sij y Hij\n",
    "\n",
    "    # Aproximación de las energías\n",
    "\n",
    "\n",
    "    li=0\n",
    "    ls=0\n",
    "    for i in range(n):\n",
    "        for j in range(n):\n",
    "            integrandoT=(f[i])*((-hbar**2)/(2*m)*diff(f[j],x,2))\n",
    "            integrandoV=(f[i])*V*(f[j])\n",
    "            integrandoN=(f[i])*f[j]\n",
    "            # Definir los limites de integracion\n",
    "\n",
    "            # Límites inferiores\n",
    "            \n",
    "            if lim_inf[i].subs({l:large})<=lim_inf[j].subs({l:large}):\n",
    "                li=lim_inf[j]\n",
    "                if li.subs({l:large})>=lim_inf_V.subs({l:large}):\n",
    "                    liV=li\n",
    "                else:\n",
    "                    liV=lim_inf_V\n",
    "            if lim_inf[i].subs({l:large})>=lim_inf[j].subs({l:large}):\n",
    "                li=lim_inf[i]\n",
    "                if li.subs({l:large})>=lim_inf_V.subs({l:large}):\n",
    "                    liV=li\n",
    "                else:\n",
    "                    liV=lim_inf_V\n",
    "                    \n",
    "            # Límites superiores\n",
    "            \n",
    "            if lim_sup[i].subs({l:large})>=lim_sup[j].subs({l:large}):\n",
    "                ls=lim_sup[j]\n",
    "                if ls.subs({l:large})<=lim_sup_V.subs({l:large}):\n",
    "                    lsV=ls\n",
    "                else:\n",
    "                    lsV=lim_sup_V\n",
    "            if lim_sup[i].subs({l:large})<=lim_sup[j].subs({l:large}):\n",
    "                ls=lim_sup[i]\n",
    "                ls=lim_sup[j]\n",
    "                if ls.subs({l:large})<=lim_sup_V.subs({l:large}):\n",
    "                    lsV=ls\n",
    "                else:\n",
    "                    lsV=lim_sup_V\n",
    "\n",
    "            c=Integral(integrandoT,(x,li,ls))\n",
    "            e=Integral(integrandoV,(x,liV,lsV))\n",
    "            g=c+e\n",
    "            d=Integral(integrandoN,(x,li,ls))\n",
    "            g=g.doit()\n",
    "            Hm.append(g)\n",
    "            d=d.doit()\n",
    "            Sm.append(d)\n",
    "    Sm=np.reshape(Sm,(n,n))\n",
    "    Hm=np.reshape(Hm,(n,n))\n",
    "\n",
    "\n",
    "    # M: (Hij-Sij)*w\n",
    "    \n",
    "    M=(Hm-Sm*w)\n",
    "    H=sympify(Matrix(M))\n",
    "    Hdet=H.det()\n",
    "    \n",
    "    # Resuelve el determinante \n",
    "    \n",
    "    E=solve(Hdet,w)\n",
    "    \n",
    "    Eord=solve(Hdet,w)\n",
    "    \n",
    "    # Ordenar energías\n",
    "    \n",
    "    energies=np.zeros(n)\n",
    "\n",
    "    for i in range (n):\n",
    "        energies[i]=E[i].subs({m: mass, l: large, hbar:1.0545718e-34})\n",
    "    energies_ord=sorted(energies)\n",
    "    for i in range(n):\n",
    "        for j in range(n):\n",
    "            if energies[i]==energies_ord[j]:\n",
    "                Eord[i]=E[j]\n",
    "\n",
    "    # Matriz de constantes \n",
    "    \n",
    "    # Para las egeinfunciones\n",
    "    \n",
    "    c=zeros(n)\n",
    "    for i in range(n):\n",
    "        for j in range(n):\n",
    "            c[i,j]=Symbol('c %d %d' %(i+1,j+1))\n",
    "\n",
    "    # Solución para las constantes\n",
    "    \n",
    "    \n",
    "    sol=[]\n",
    "    \n",
    "    for i in range (n):\n",
    "        a=np.reshape(c[0+n*i:(n)+n*i],(n))\n",
    "        SE=Matrix(np.dot(M,a.transpose()))\n",
    "        SE=sympify((SE.subs({w:Eord[i]})))\n",
    "        sol.append(solve(SE,c[0+n*i:(n+1)+n*i]))\n",
    "\n",
    "    if n!= 1:\n",
    "        \n",
    "        csol=zeros(n)\n",
    "        CTS,cts,Cdet=[],[],[]\n",
    "        for i in range (n):\n",
    "            for j in range(n):\n",
    "                csol[i,j]=(sol[i]).get(c[i,j])\n",
    "                if csol[i,j] is None:\n",
    "                    csol[i,j]=c[i,j]\n",
    "                    CTS.append(c[i,j]); cts.append(c[i,j]); Cdet.append(c[i,j])\n",
    "    \n",
    "    \n",
    "    print('Matriz Hij')\n",
    "    \n",
    "    print(sympify(Matrix(Hm)));print('')\n",
    "    \n",
    "    print('Matriz Sij')\n",
    "    \n",
    "    print(sympify(Matrix(Sm)));print('')\n",
    "    \n",
    "    print('Energías ordenadas')\n",
    "    \n",
    "    print(Eord);print('')\n",
    "    \n",
    "    \n",
    "    \n",
    "    graficar=input('Desea graficar las eigenfunciones calculadas: ');print('')\n",
    "    \n",
    "    # Se normaliza y se imprime las graficas\n",
    "    \n",
    "    if graficar==\"si\":\n",
    "        if n>1:\n",
    "            fa=(np.reshape(f,(n)))\n",
    "            ef=csol*fa\n",
    "            for i in range(n):\n",
    "                integrando=ef[i]*ef[i]\n",
    "                integ=Integral(integrando,(x,lim_inf[i],lim_sup[i]))\n",
    "                integ=integ.doit()\n",
    "                cts[i]=solve(integ-1,Cdet[i])\n",
    "                if abs(cts[i][0])==cts[0][0]:\n",
    "                    CTS[i]=cts[i][0]\n",
    "                else:\n",
    "                    CTS[i]=cts[i][1]\n",
    "                ef=ef.subs({Cdet[i]:CTS[i]})\n",
    "            print('Constantes para cada una de las eigenfunciones ')\n",
    "            print(csol);print('')     \n",
    "            print('Se normalizaron las constantes mostradas anteriormente, cuyos resultados son:')\n",
    "            print(CTS);print('')\n",
    "            for i in range(n):\n",
    "                plot(ef[i].subs({l:1}),xlim=(0,1),ylim=(-2,2),title='Eigenfunción: %d' %(i+1))\n",
    "\n",
    "    \n",
    "        if n==1:\n",
    "            ct=Symbol('C22')\n",
    "            ef=ct*f[0]\n",
    "            integrando=(ef)*(ef)\n",
    "            integ=Integral(integrando,(x,lim_inf[0],lim_sup[0]))\n",
    "            integr=integ.doit()\n",
    "            cte=solve(integr-1,ct)\n",
    "            if cte[0].subs({l:large})>cte[1].subs({l:large}):\n",
    "                ctr=cte[0]\n",
    "            else:\n",
    "                ctr=cte[1]\n",
    "            ef=ef.subs({ct:ctr})\n",
    "            #print('Constantes de cada una de las eigenfunciones')\n",
    "            #print(csol);print('')     \n",
    "            #print('Se normalizaron las constantes mostradas anteriormente, cuyos resultados son:')\n",
    "            #print(CTS);print('')\n",
    "            plot(ef.subs({l:1}),xlim=(0,1),ylim=(-1,2))\n",
    "    \n",
    "    \n",
    "    return(Eord)\n"
   ]
  },
  {
   "cell_type": "code",
   "execution_count": null,
   "metadata": {
    "collapsed": true
   },
   "outputs": [],
   "source": []
  },
  {
   "cell_type": "code",
   "execution_count": null,
   "metadata": {
    "collapsed": true
   },
   "outputs": [],
   "source": []
  }
 ],
 "metadata": {
  "anaconda-cloud": {},
  "kernelspec": {
   "display_name": "Python [conda root]",
   "language": "python",
   "name": "conda-root-py"
  },
  "language_info": {
   "codemirror_mode": {
    "name": "ipython",
    "version": 3
   },
   "file_extension": ".py",
   "mimetype": "text/x-python",
   "name": "python",
   "nbconvert_exporter": "python",
   "pygments_lexer": "ipython3",
   "version": "3.5.2"
  }
 },
 "nbformat": 4,
 "nbformat_minor": 1
}
