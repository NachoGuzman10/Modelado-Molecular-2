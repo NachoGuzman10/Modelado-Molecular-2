{
 "cells": [
  {
   "cell_type": "code",
   "execution_count": 1,
   "metadata": {
    "collapsed": true
   },
   "outputs": [],
   "source": [
    "from sympy import *\n",
    "from sympy import init_printing; init_printing(use_latex = 'mathjax')"
   ]
  },
  {
   "cell_type": "code",
   "execution_count": 2,
   "metadata": {
    "collapsed": false
   },
   "outputs": [
    {
     "data": {
      "text/latex": [
       "$$\\left ( x, \\quad l, \\quad m, \\quad \\hbar\\right )$$"
      ],
      "text/plain": [
       "(x, l, m, h̅)"
      ]
     },
     "execution_count": 2,
     "metadata": {},
     "output_type": "execute_result"
    }
   ],
   "source": [
    "var('x l m hbar')"
   ]
  },
  {
   "cell_type": "code",
   "execution_count": 3,
   "metadata": {
    "collapsed": true
   },
   "outputs": [],
   "source": [
    "f_1 = x*(l - x)"
   ]
  },
  {
   "cell_type": "code",
   "execution_count": 4,
   "metadata": {
    "collapsed": false
   },
   "outputs": [
    {
     "data": {
      "text/latex": [
       "$$x \\left(l - x\\right)$$"
      ],
      "text/plain": [
       "x⋅(l - x)"
      ]
     },
     "execution_count": 4,
     "metadata": {},
     "output_type": "execute_result"
    }
   ],
   "source": [
    "f_1"
   ]
  },
  {
   "cell_type": "code",
   "execution_count": 5,
   "metadata": {
    "collapsed": false
   },
   "outputs": [
    {
     "data": {
      "text/latex": [
       "$$-2$$"
      ],
      "text/plain": [
       "-2"
      ]
     },
     "execution_count": 5,
     "metadata": {},
     "output_type": "execute_result"
    }
   ],
   "source": [
    "diff(f_1, x, 2)"
   ]
  },
  {
   "cell_type": "code",
   "execution_count": 6,
   "metadata": {
    "collapsed": false
   },
   "outputs": [
    {
     "data": {
      "text/latex": [
       "$$\\frac{\\hbar^{2} x}{m} \\left(l - x\\right)$$"
      ],
      "text/plain": [
       "  2          \n",
       "h̅ ⋅x⋅(l - x)\n",
       "─────────────\n",
       "      m      "
      ]
     },
     "execution_count": 6,
     "metadata": {},
     "output_type": "execute_result"
    }
   ],
   "source": [
    "integrando = (-hbar**2/(2*m))*f_1*diff(f_1, x, 2)\n",
    "integrando"
   ]
  },
  {
   "cell_type": "markdown",
   "metadata": {},
   "source": []
  },
  {
   "cell_type": "code",
   "execution_count": 7,
   "metadata": {
    "collapsed": false
   },
   "outputs": [],
   "source": [
    "H_11 = Integral(integrando, (x, 0, l))"
   ]
  },
  {
   "cell_type": "code",
   "execution_count": 8,
   "metadata": {
    "collapsed": false
   },
   "outputs": [
    {
     "data": {
      "text/latex": [
       "$$\\frac{\\hbar^{2} l^{3}}{6 m}$$"
      ],
      "text/plain": [
       "  2  3\n",
       "h̅ ⋅l \n",
       "──────\n",
       " 6⋅m  "
      ]
     },
     "execution_count": 8,
     "metadata": {},
     "output_type": "execute_result"
    }
   ],
   "source": [
    "H_11.doit()"
   ]
  },
  {
   "cell_type": "code",
   "execution_count": 9,
   "metadata": {
    "collapsed": false
   },
   "outputs": [
    {
     "data": {
      "text/latex": [
       "$$x^{2} \\left(l - x\\right)^{2}$$"
      ],
      "text/plain": [
       " 2        2\n",
       "x ⋅(l - x) "
      ]
     },
     "execution_count": 9,
     "metadata": {},
     "output_type": "execute_result"
    }
   ],
   "source": [
    "integrando2 = f_1**2\n",
    "integrando2"
   ]
  },
  {
   "cell_type": "code",
   "execution_count": 10,
   "metadata": {
    "collapsed": false
   },
   "outputs": [
    {
     "data": {
      "text/latex": [
       "$$\\int_{0}^{l} x^{2} \\left(l - x\\right)^{2}\\, dx$$"
      ],
      "text/plain": [
       "l               \n",
       "⌠               \n",
       "⎮  2        2   \n",
       "⎮ x ⋅(l - x)  dx\n",
       "⌡               \n",
       "0               "
      ]
     },
     "execution_count": 10,
     "metadata": {},
     "output_type": "execute_result"
    }
   ],
   "source": [
    "Integral(integrando2, (x, 0, l))"
   ]
  },
  {
   "cell_type": "code",
   "execution_count": 11,
   "metadata": {
    "collapsed": false
   },
   "outputs": [
    {
     "data": {
      "text/latex": [
       "$$\\frac{l^{5}}{30}$$"
      ],
      "text/plain": [
       " 5\n",
       "l \n",
       "──\n",
       "30"
      ]
     },
     "execution_count": 11,
     "metadata": {},
     "output_type": "execute_result"
    }
   ],
   "source": [
    "S_11=Integral(integrando2, (x, 0, l))\n",
    "S_11.doit()"
   ]
  },
  {
   "cell_type": "code",
   "execution_count": 13,
   "metadata": {
    "collapsed": false
   },
   "outputs": [
    {
     "name": "stdout",
     "output_type": "stream",
     "text": [
      "Qué número de valores de energía desea aproximar?4\n"
     ]
    },
    {
     "data": {
      "text/latex": [
       "$$\\left[\\begin{matrix}c 1 \\left(- \\frac{W l^{5}}{30} + \\frac{\\hbar^{2} l^{3}}{6 m}\\right) & c 2 \\left(- \\frac{W l^{7}}{140} + \\frac{\\hbar^{2} l^{5}}{30 m}\\right) & 0 & 0\\\\c 1 \\left(- \\frac{W l^{7}}{140} + \\frac{\\hbar^{2} l^{5}}{30 m}\\right) & c 2 \\left(- \\frac{W l^{9}}{630} + \\frac{\\hbar^{2} l^{7}}{105 m}\\right) & 0 & 0\\\\0 & 0 & c 3 \\left(- \\frac{W l^{7}}{840} + \\frac{\\hbar^{2} l^{5}}{40 m}\\right) & c 4 \\left(- \\frac{W l^{9}}{5040} + \\frac{\\hbar^{2} l^{7}}{280 m}\\right)\\\\0 & 0 & c 3 \\left(- \\frac{W l^{9}}{5040} + \\frac{\\hbar^{2} l^{7}}{280 m}\\right) & c 4 \\left(- \\frac{W l^{11}}{27720} + \\frac{\\hbar^{2} l^{9}}{1260 m}\\right)\\end{matrix}\\right]$$"
      ],
      "text/plain": [
       "⎡    ⎛     5     2  3⎞      ⎛     7     2  5⎞                                 \n",
       "⎢    ⎜  W⋅l    h̅ ⋅l ⎟      ⎜  W⋅l    h̅ ⋅l ⎟                                 \n",
       "⎢c 1⋅⎜- ──── + ──────⎟  c 2⋅⎜- ──── + ──────⎟            0                    \n",
       "⎢    ⎝   30     6⋅m  ⎠      ⎝  140     30⋅m ⎠                                 \n",
       "⎢                                                                             \n",
       "⎢    ⎛     7     2  5⎞      ⎛     9     2  7⎞                                 \n",
       "⎢    ⎜  W⋅l    h̅ ⋅l ⎟      ⎜  W⋅l    h̅ ⋅l ⎟                                 \n",
       "⎢c 1⋅⎜- ──── + ──────⎟  c 2⋅⎜- ──── + ──────⎟            0                    \n",
       "⎢    ⎝  140     30⋅m ⎠      ⎝  630    105⋅m ⎠                                 \n",
       "⎢                                                                             \n",
       "⎢                                                  ⎛     7     2  5⎞      ⎛   \n",
       "⎢                                                  ⎜  W⋅l    h̅ ⋅l ⎟      ⎜  W\n",
       "⎢          0                      0            c 3⋅⎜- ──── + ──────⎟  c 4⋅⎜- ─\n",
       "⎢                                                  ⎝  840     40⋅m ⎠      ⎝  5\n",
       "⎢                                                                             \n",
       "⎢                                                  ⎛     9     2  7⎞      ⎛   \n",
       "⎢                                                  ⎜  W⋅l    h̅ ⋅l ⎟      ⎜  W\n",
       "⎢          0                      0            c 3⋅⎜- ──── + ──────⎟  c 4⋅⎜- ─\n",
       "⎣                                                  ⎝  5040   280⋅m ⎠      ⎝  2\n",
       "\n",
       "              ⎤\n",
       "              ⎥\n",
       "  0           ⎥\n",
       "              ⎥\n",
       "              ⎥\n",
       "              ⎥\n",
       "              ⎥\n",
       "  0           ⎥\n",
       "              ⎥\n",
       "              ⎥\n",
       "  9     2  7⎞ ⎥\n",
       "⋅l    h̅ ⋅l ⎟ ⎥\n",
       "─── + ──────⎟ ⎥\n",
       "040   280⋅m ⎠ ⎥\n",
       "              ⎥\n",
       "  11     2  9⎞⎥\n",
       "⋅l     h̅ ⋅l ⎟⎥\n",
       "──── + ──────⎟⎥\n",
       "7720   1260⋅m⎠⎦"
      ]
     },
     "execution_count": 13,
     "metadata": {},
     "output_type": "execute_result"
    }
   ],
   "source": [
    "from sympy import *\n",
    "from sympy import init_printing; init_printing(use_latex = 'mathjax')\n",
    "import numpy as np\n",
    "\n",
    "n = int(input('Qué número de valores de energía desea aproximar?'))\n",
    "\n",
    "l, m, hbar = symbols('l m hbar', real = True, constant = True)\n",
    "var('x,W')\n",
    "\n",
    "H = ones(n,n)\n",
    "S = ones(n,n)\n",
    "U = ones(n,n)\n",
    "\n",
    "F = [x*(l - x),(x**2)*((l - x)**2),x*(l - x)*((l/2)-x),(x**2)*((l - x)**2)*((l/2)-x)]\n",
    "\n",
    "c=[]\n",
    "for i in range (n):\n",
    "    c.append(Symbol('c %d' %(i+1)))\n",
    "    \n",
    "#F = [sympify(input('Ingrese la función {0}: '.format(i+1))) for i in range(n)]\n",
    "\n",
    "\n",
    "for j in range(1,n+1):                                                                #loop para llenar la matriz H\n",
    "    for k in range(1,n+1):\n",
    "       \n",
    "        I = ((-hbar**2)/(2*m))\n",
    "        integrando = I*(F[j-1])*diff(F[k-1], x, 2)\n",
    "        A = integrate(integrando, (x, 0, l))\n",
    "        integrandos = (F[j-1])*(F[k-1])\n",
    "        B = integrate(integrandos, (x, 0, l))\n",
    "        H[j-1,k-1] *= A\n",
    "        S[j-1,k-1] *= B\n",
    "        U[j-1,k-1] *= (H[j-1,k-1] -W*S[j-1,k-1])\n",
    "E = U.det()\n",
    "EE = solve(E,W)\n",
    "for i in range(0,n):\n",
    "    EE[i] = EE[i]*((l**2)/I)\n",
    "EE.sort()\n",
    "for i in range(0,n):\n",
    "    EE[i] = EE[i]*(I/l**2)\n",
    "\n",
    "for o in range(1,n+1):\n",
    "    U[:,o-1] = c[o-1]*U[:,o-1]  \n",
    "    \n",
    "  \n",
    "U\n",
    "\n",
    "\n"
   ]
  },
  {
   "cell_type": "code",
   "execution_count": null,
   "metadata": {
    "collapsed": true
   },
   "outputs": [],
   "source": []
  }
 ],
 "metadata": {
  "anaconda-cloud": {},
  "kernelspec": {
   "display_name": "Python [conda root]",
   "language": "python",
   "name": "conda-root-py"
  },
  "language_info": {
   "codemirror_mode": {
    "name": "ipython",
    "version": 3
   },
   "file_extension": ".py",
   "mimetype": "text/x-python",
   "name": "python",
   "nbconvert_exporter": "python",
   "pygments_lexer": "ipython3",
   "version": "3.5.2"
  }
 },
 "nbformat": 4,
 "nbformat_minor": 1
}
